{
 "cells": [
  {
   "cell_type": "code",
   "execution_count": 1,
   "metadata": {},
   "outputs": [],
   "source": [
    "from qiskit import BasicAer\n",
    "from qiskit.aqua import run_algorithm, QuantumInstance\n",
    "from qiskit.aqua.algorithms import VQC\n",
    "from qiskit.aqua.components.optimizers import SPSA\n",
    "from qiskit.aqua.components.feature_maps import SecondOrderExpansion\n",
    "from qiskit.aqua.components.variational_forms import RYRZ\n",
    "\n",
    "from titanic import *"
   ]
  },
  {
   "cell_type": "code",
   "execution_count": 3,
   "metadata": {},
   "outputs": [],
   "source": [
    "train_df, test_df = titanic()\n",
    "\n",
    "training_input, test_input = parse_data_train_vqc(train_df,split_ratio=0.2)"
   ]
  },
  {
   "cell_type": "code",
   "execution_count": 5,
   "metadata": {},
   "outputs": [],
   "source": [
    "feature_dim = 8\n",
    "random_seed = 10598\n",
    "shots = 1024\n",
    "\n",
    "backend = BasicAer.get_backend('qasm_simulator')\n",
    "optimizer = SPSA(max_trials=100, c0=4.0, skip_calibration=True)\n",
    "optimizer.set_options(save_steps=1)\n",
    "feature_map = SecondOrderExpansion(feature_dimension=feature_dim, depth=2)\n",
    "var_form = RYRZ(num_qubits=feature_dim, depth=3)\n",
    "vqc = VQC(optimizer, feature_map, var_form, training_input, test_input)\n",
    "quantum_instance = QuantumInstance(backend, shots=shots, seed=random_seed, seed_transpiler=random_seed)"
   ]
  },
  {
   "cell_type": "code",
   "execution_count": 6,
   "metadata": {},
   "outputs": [
    {
     "name": "stdout",
     "output_type": "stream",
     "text": [
      "testing success ratio:  0.6629213483146067\n"
     ]
    }
   ],
   "source": [
    "result = vqc.run(quantum_instance)\n",
    "print(\"testing success ratio: \", result['testing_accuracy'])"
   ]
  },
  {
   "cell_type": "code",
   "execution_count": 7,
   "metadata": {},
   "outputs": [
    {
     "data": {
      "text/plain": [
       "{'num_optimizer_evals': None,\n",
       " 'min_val': 0.6436821305917233,\n",
       " 'opt_params': array([-0.90079074,  0.07369042,  0.73389909, -1.94309008,  0.35390808,\n",
       "         0.15451897,  0.18269655,  2.40418278,  0.43797798, -0.89755905,\n",
       "         1.30151941, -0.7560598 ,  0.0816928 , -0.85164649,  0.68552452,\n",
       "         1.79978855,  1.84932977,  0.7314474 , -1.8813681 ,  0.39083244,\n",
       "        -0.44036533,  0.15856702, -1.27750698, -1.15026945, -0.67290749,\n",
       "        -0.24320063,  0.10693128, -1.715347  , -0.18976026,  0.58252653,\n",
       "         2.32716233, -0.54986772, -0.89459158,  1.27652078, -0.69388713,\n",
       "        -1.44508211, -0.30115292,  1.16095724,  0.49954693, -2.22911917,\n",
       "        -1.4440136 ,  0.89767489,  0.27666627,  1.30320688, -0.25727756,\n",
       "         0.02588343,  0.56396049, -0.23539531, -1.02400914,  0.86540526,\n",
       "        -2.02792588,  1.27230383,  0.26840954,  0.66110719, -0.60123204,\n",
       "         0.03664566,  0.8810021 , -1.36292944, -1.12226403,  0.24771021,\n",
       "        -0.15515735, -0.48472489, -1.01236354, -0.02744112]),\n",
       " 'eval_time': 9984.519660234451,\n",
       " 'eval_count': 201,\n",
       " 'training_loss': 0.6436821305917233,\n",
       " 'testing_accuracy': 0.6629213483146067,\n",
       " 'test_success_ratio': 0.6629213483146067,\n",
       " 'testing_loss': 0.6540628021010949}"
      ]
     },
     "execution_count": 7,
     "metadata": {},
     "output_type": "execute_result"
    }
   ],
   "source": [
    "result"
   ]
  },
  {
   "cell_type": "code",
   "execution_count": null,
   "metadata": {},
   "outputs": [],
   "source": []
  }
 ],
 "metadata": {
  "kernelspec": {
   "display_name": "Python 3",
   "language": "python",
   "name": "python3"
  },
  "language_info": {
   "codemirror_mode": {
    "name": "ipython",
    "version": 3
   },
   "file_extension": ".py",
   "mimetype": "text/x-python",
   "name": "python",
   "nbconvert_exporter": "python",
   "pygments_lexer": "ipython3",
   "version": "3.7.3"
  }
 },
 "nbformat": 4,
 "nbformat_minor": 2
}
